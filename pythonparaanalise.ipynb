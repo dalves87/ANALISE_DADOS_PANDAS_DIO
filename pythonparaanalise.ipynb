{
  "nbformat": 4,
  "nbformat_minor": 0,
  "metadata": {
    "colab": {
      "name": "pythonparaanalise.ipynb",
      "provenance": [],
      "mount_file_id": "1ZZKO4h-SSn5y0uzaVjIktgKWQiSQ6DRm",
      "authorship_tag": "ABX9TyMdSXtiAr/TFZYSBdysEH5t",
      "include_colab_link": true
    },
    "kernelspec": {
      "name": "python3",
      "display_name": "Python 3"
    },
    "language_info": {
      "name": "python"
    }
  },
  "cells": [
    {
      "cell_type": "markdown",
      "metadata": {
        "id": "view-in-github",
        "colab_type": "text"
      },
      "source": [
        "<a href=\"https://colab.research.google.com/github/dalves87/ANALISE_DADOS_PANDAS_DIO/blob/master/pythonparaanalise.ipynb\" target=\"_parent\"><img src=\"https://colab.research.google.com/assets/colab-badge.svg\" alt=\"Open In Colab\"/></a>"
      ]
    },
    {
      "cell_type": "code",
      "metadata": {
        "id": "mJHzVDHkmshX"
      },
      "source": [
        "#importando a biblioteca pandas\n",
        "import pandas as pd"
      ],
      "execution_count": 1,
      "outputs": []
    },
    {
      "cell_type": "code",
      "metadata": {
        "id": "WAfA_Kmxm9I5"
      },
      "source": [
        "df = pd.read_csv(\"/content/drive/MyDrive/datasets/Gapminder.csv\",error_bad_lines=False,sep=\";\")"
      ],
      "execution_count": 2,
      "outputs": []
    },
    {
      "cell_type": "code",
      "metadata": {
        "colab": {
          "base_uri": "https://localhost:8080/",
          "height": 204
        },
        "id": "vZS3Hvphnhjj",
        "outputId": "4bdfb07f-0dab-4165-f6b8-56845ad31c22"
      },
      "source": [
        "#visualizando as 5 primeiras linhas\n",
        "df.head()"
      ],
      "execution_count": 3,
      "outputs": [
        {
          "output_type": "execute_result",
          "data": {
            "text/html": [
              "<div>\n",
              "<style scoped>\n",
              "    .dataframe tbody tr th:only-of-type {\n",
              "        vertical-align: middle;\n",
              "    }\n",
              "\n",
              "    .dataframe tbody tr th {\n",
              "        vertical-align: top;\n",
              "    }\n",
              "\n",
              "    .dataframe thead th {\n",
              "        text-align: right;\n",
              "    }\n",
              "</style>\n",
              "<table border=\"1\" class=\"dataframe\">\n",
              "  <thead>\n",
              "    <tr style=\"text-align: right;\">\n",
              "      <th></th>\n",
              "      <th>country</th>\n",
              "      <th>continent</th>\n",
              "      <th>year</th>\n",
              "      <th>lifeExp</th>\n",
              "      <th>pop</th>\n",
              "      <th>gdpPercap</th>\n",
              "    </tr>\n",
              "  </thead>\n",
              "  <tbody>\n",
              "    <tr>\n",
              "      <th>0</th>\n",
              "      <td>Afghanistan</td>\n",
              "      <td>Asia</td>\n",
              "      <td>1952</td>\n",
              "      <td>28.801</td>\n",
              "      <td>8425333</td>\n",
              "      <td>779.445314</td>\n",
              "    </tr>\n",
              "    <tr>\n",
              "      <th>1</th>\n",
              "      <td>Afghanistan</td>\n",
              "      <td>Asia</td>\n",
              "      <td>1957</td>\n",
              "      <td>30.332</td>\n",
              "      <td>9240934</td>\n",
              "      <td>820.853030</td>\n",
              "    </tr>\n",
              "    <tr>\n",
              "      <th>2</th>\n",
              "      <td>Afghanistan</td>\n",
              "      <td>Asia</td>\n",
              "      <td>1962</td>\n",
              "      <td>31.997</td>\n",
              "      <td>10267083</td>\n",
              "      <td>853.100710</td>\n",
              "    </tr>\n",
              "    <tr>\n",
              "      <th>3</th>\n",
              "      <td>Afghanistan</td>\n",
              "      <td>Asia</td>\n",
              "      <td>1967</td>\n",
              "      <td>34.020</td>\n",
              "      <td>11537966</td>\n",
              "      <td>836.197138</td>\n",
              "    </tr>\n",
              "    <tr>\n",
              "      <th>4</th>\n",
              "      <td>Afghanistan</td>\n",
              "      <td>Asia</td>\n",
              "      <td>1972</td>\n",
              "      <td>36.088</td>\n",
              "      <td>13079460</td>\n",
              "      <td>739.981106</td>\n",
              "    </tr>\n",
              "  </tbody>\n",
              "</table>\n",
              "</div>"
            ],
            "text/plain": [
              "       country continent  year  lifeExp       pop   gdpPercap\n",
              "0  Afghanistan      Asia  1952   28.801   8425333  779.445314\n",
              "1  Afghanistan      Asia  1957   30.332   9240934  820.853030\n",
              "2  Afghanistan      Asia  1962   31.997  10267083  853.100710\n",
              "3  Afghanistan      Asia  1967   34.020  11537966  836.197138\n",
              "4  Afghanistan      Asia  1972   36.088  13079460  739.981106"
            ]
          },
          "metadata": {
            "tags": []
          },
          "execution_count": 3
        }
      ]
    },
    {
      "cell_type": "code",
      "metadata": {
        "id": "NW7sOZI3nkwU"
      },
      "source": [
        "df = df.rename(columns={\"country\":\"pais\",\"year\":\"ano\",\"pop\":\"populacao\",\"continent\":\"continente\",\"lifeExp\":\"ExpectativaVida\",\"gdpPercap\":\"PIB\"})"
      ],
      "execution_count": 4,
      "outputs": []
    },
    {
      "cell_type": "code",
      "metadata": {
        "colab": {
          "base_uri": "https://localhost:8080/",
          "height": 359
        },
        "id": "jPkVkSdooHF7",
        "outputId": "0f321438-1aa4-411f-a8a7-e2d8923ebf4b"
      },
      "source": [
        "#visualizando as 10 primeiras linhas\n",
        "df.head(10)"
      ],
      "execution_count": 5,
      "outputs": [
        {
          "output_type": "execute_result",
          "data": {
            "text/html": [
              "<div>\n",
              "<style scoped>\n",
              "    .dataframe tbody tr th:only-of-type {\n",
              "        vertical-align: middle;\n",
              "    }\n",
              "\n",
              "    .dataframe tbody tr th {\n",
              "        vertical-align: top;\n",
              "    }\n",
              "\n",
              "    .dataframe thead th {\n",
              "        text-align: right;\n",
              "    }\n",
              "</style>\n",
              "<table border=\"1\" class=\"dataframe\">\n",
              "  <thead>\n",
              "    <tr style=\"text-align: right;\">\n",
              "      <th></th>\n",
              "      <th>pais</th>\n",
              "      <th>continente</th>\n",
              "      <th>ano</th>\n",
              "      <th>ExpectativaVida</th>\n",
              "      <th>populacao</th>\n",
              "      <th>PIB</th>\n",
              "    </tr>\n",
              "  </thead>\n",
              "  <tbody>\n",
              "    <tr>\n",
              "      <th>0</th>\n",
              "      <td>Afghanistan</td>\n",
              "      <td>Asia</td>\n",
              "      <td>1952</td>\n",
              "      <td>28.801</td>\n",
              "      <td>8425333</td>\n",
              "      <td>779.445314</td>\n",
              "    </tr>\n",
              "    <tr>\n",
              "      <th>1</th>\n",
              "      <td>Afghanistan</td>\n",
              "      <td>Asia</td>\n",
              "      <td>1957</td>\n",
              "      <td>30.332</td>\n",
              "      <td>9240934</td>\n",
              "      <td>820.853030</td>\n",
              "    </tr>\n",
              "    <tr>\n",
              "      <th>2</th>\n",
              "      <td>Afghanistan</td>\n",
              "      <td>Asia</td>\n",
              "      <td>1962</td>\n",
              "      <td>31.997</td>\n",
              "      <td>10267083</td>\n",
              "      <td>853.100710</td>\n",
              "    </tr>\n",
              "    <tr>\n",
              "      <th>3</th>\n",
              "      <td>Afghanistan</td>\n",
              "      <td>Asia</td>\n",
              "      <td>1967</td>\n",
              "      <td>34.020</td>\n",
              "      <td>11537966</td>\n",
              "      <td>836.197138</td>\n",
              "    </tr>\n",
              "    <tr>\n",
              "      <th>4</th>\n",
              "      <td>Afghanistan</td>\n",
              "      <td>Asia</td>\n",
              "      <td>1972</td>\n",
              "      <td>36.088</td>\n",
              "      <td>13079460</td>\n",
              "      <td>739.981106</td>\n",
              "    </tr>\n",
              "    <tr>\n",
              "      <th>5</th>\n",
              "      <td>Afghanistan</td>\n",
              "      <td>Asia</td>\n",
              "      <td>1977</td>\n",
              "      <td>38.438</td>\n",
              "      <td>14880372</td>\n",
              "      <td>786.113360</td>\n",
              "    </tr>\n",
              "    <tr>\n",
              "      <th>6</th>\n",
              "      <td>Afghanistan</td>\n",
              "      <td>Asia</td>\n",
              "      <td>1982</td>\n",
              "      <td>39.854</td>\n",
              "      <td>12881816</td>\n",
              "      <td>978.011439</td>\n",
              "    </tr>\n",
              "    <tr>\n",
              "      <th>7</th>\n",
              "      <td>Afghanistan</td>\n",
              "      <td>Asia</td>\n",
              "      <td>1987</td>\n",
              "      <td>40.822</td>\n",
              "      <td>13867957</td>\n",
              "      <td>852.395945</td>\n",
              "    </tr>\n",
              "    <tr>\n",
              "      <th>8</th>\n",
              "      <td>Afghanistan</td>\n",
              "      <td>Asia</td>\n",
              "      <td>1992</td>\n",
              "      <td>41.674</td>\n",
              "      <td>16317921</td>\n",
              "      <td>649.341395</td>\n",
              "    </tr>\n",
              "    <tr>\n",
              "      <th>9</th>\n",
              "      <td>Afghanistan</td>\n",
              "      <td>Asia</td>\n",
              "      <td>1997</td>\n",
              "      <td>41.763</td>\n",
              "      <td>22227415</td>\n",
              "      <td>635.341351</td>\n",
              "    </tr>\n",
              "  </tbody>\n",
              "</table>\n",
              "</div>"
            ],
            "text/plain": [
              "          pais continente   ano  ExpectativaVida  populacao         PIB\n",
              "0  Afghanistan       Asia  1952           28.801    8425333  779.445314\n",
              "1  Afghanistan       Asia  1957           30.332    9240934  820.853030\n",
              "2  Afghanistan       Asia  1962           31.997   10267083  853.100710\n",
              "3  Afghanistan       Asia  1967           34.020   11537966  836.197138\n",
              "4  Afghanistan       Asia  1972           36.088   13079460  739.981106\n",
              "5  Afghanistan       Asia  1977           38.438   14880372  786.113360\n",
              "6  Afghanistan       Asia  1982           39.854   12881816  978.011439\n",
              "7  Afghanistan       Asia  1987           40.822   13867957  852.395945\n",
              "8  Afghanistan       Asia  1992           41.674   16317921  649.341395\n",
              "9  Afghanistan       Asia  1997           41.763   22227415  635.341351"
            ]
          },
          "metadata": {
            "tags": []
          },
          "execution_count": 5
        }
      ]
    },
    {
      "cell_type": "code",
      "metadata": {
        "colab": {
          "base_uri": "https://localhost:8080/"
        },
        "id": "G2eTA-tmoNNB",
        "outputId": "f78c02a1-8c94-4485-d375-8a0f0d352df5"
      },
      "source": [
        "#total de linhas e colunas\n",
        "df.shape"
      ],
      "execution_count": 6,
      "outputs": [
        {
          "output_type": "execute_result",
          "data": {
            "text/plain": [
              "(3312, 6)"
            ]
          },
          "metadata": {
            "tags": []
          },
          "execution_count": 6
        }
      ]
    },
    {
      "cell_type": "code",
      "metadata": {
        "colab": {
          "base_uri": "https://localhost:8080/"
        },
        "id": "uW02lvmjoR_w",
        "outputId": "c6d7be0b-b449-44ae-e970-8bf4e92f4826"
      },
      "source": [
        "#exibir as colunas\n",
        "df.columns"
      ],
      "execution_count": 7,
      "outputs": [
        {
          "output_type": "execute_result",
          "data": {
            "text/plain": [
              "Index(['pais', 'continente', 'ano', 'ExpectativaVida', 'populacao', 'PIB'], dtype='object')"
            ]
          },
          "metadata": {
            "tags": []
          },
          "execution_count": 7
        }
      ]
    },
    {
      "cell_type": "code",
      "metadata": {
        "colab": {
          "base_uri": "https://localhost:8080/"
        },
        "id": "z9LDSh9eoU8R",
        "outputId": "cc55ad46-8cfa-4e1a-c597-9da2967e5040"
      },
      "source": [
        "#visualizar o tipo das colunas\n",
        "df.dtypes"
      ],
      "execution_count": 8,
      "outputs": [
        {
          "output_type": "execute_result",
          "data": {
            "text/plain": [
              "pais                object\n",
              "continente          object\n",
              "ano                  int64\n",
              "ExpectativaVida    float64\n",
              "populacao            int64\n",
              "PIB                float64\n",
              "dtype: object"
            ]
          },
          "metadata": {
            "tags": []
          },
          "execution_count": 8
        }
      ]
    },
    {
      "cell_type": "code",
      "metadata": {
        "colab": {
          "base_uri": "https://localhost:8080/"
        },
        "id": "3ferArlwoeuM",
        "outputId": "884bc1fc-80e8-459b-c9f3-3832a6715b4a"
      },
      "source": [
        "#visualizar as 5 ultimas linhas\n",
        "df.tail"
      ],
      "execution_count": 9,
      "outputs": [
        {
          "output_type": "execute_result",
          "data": {
            "text/plain": [
              "<bound method NDFrame.tail of              pais continente   ano  ExpectativaVida  populacao         PIB\n",
              "0     Afghanistan       Asia  1952           28.801    8425333  779.445314\n",
              "1     Afghanistan       Asia  1957           30.332    9240934  820.853030\n",
              "2     Afghanistan       Asia  1962           31.997   10267083  853.100710\n",
              "3     Afghanistan       Asia  1967           34.020   11537966  836.197138\n",
              "4     Afghanistan       Asia  1972           36.088   13079460  739.981106\n",
              "...           ...        ...   ...              ...        ...         ...\n",
              "3307     Zimbabwe     Africa  1987           62.351    9216418  706.157306\n",
              "3308     Zimbabwe     Africa  1992           60.377   10704340  693.420786\n",
              "3309     Zimbabwe     Africa  1997           46.809   11404948  792.449960\n",
              "3310     Zimbabwe     Africa  2002           39.989   11926563  672.038623\n",
              "3311     Zimbabwe     Africa  2007           43.487   12311143  469.709298\n",
              "\n",
              "[3312 rows x 6 columns]>"
            ]
          },
          "metadata": {
            "tags": []
          },
          "execution_count": 9
        }
      ]
    },
    {
      "cell_type": "code",
      "metadata": {
        "colab": {
          "base_uri": "https://localhost:8080/",
          "height": 359
        },
        "id": "C9cOiMSBol34",
        "outputId": "747845ff-603c-448c-99f9-733f2ad4b9c3"
      },
      "source": [
        "#visualizar as 10 ultimas linhas\n",
        "df.tail(10)"
      ],
      "execution_count": 10,
      "outputs": [
        {
          "output_type": "execute_result",
          "data": {
            "text/html": [
              "<div>\n",
              "<style scoped>\n",
              "    .dataframe tbody tr th:only-of-type {\n",
              "        vertical-align: middle;\n",
              "    }\n",
              "\n",
              "    .dataframe tbody tr th {\n",
              "        vertical-align: top;\n",
              "    }\n",
              "\n",
              "    .dataframe thead th {\n",
              "        text-align: right;\n",
              "    }\n",
              "</style>\n",
              "<table border=\"1\" class=\"dataframe\">\n",
              "  <thead>\n",
              "    <tr style=\"text-align: right;\">\n",
              "      <th></th>\n",
              "      <th>pais</th>\n",
              "      <th>continente</th>\n",
              "      <th>ano</th>\n",
              "      <th>ExpectativaVida</th>\n",
              "      <th>populacao</th>\n",
              "      <th>PIB</th>\n",
              "    </tr>\n",
              "  </thead>\n",
              "  <tbody>\n",
              "    <tr>\n",
              "      <th>3302</th>\n",
              "      <td>Zimbabwe</td>\n",
              "      <td>Africa</td>\n",
              "      <td>1962</td>\n",
              "      <td>52.358</td>\n",
              "      <td>4277736</td>\n",
              "      <td>527.272182</td>\n",
              "    </tr>\n",
              "    <tr>\n",
              "      <th>3303</th>\n",
              "      <td>Zimbabwe</td>\n",
              "      <td>Africa</td>\n",
              "      <td>1967</td>\n",
              "      <td>53.995</td>\n",
              "      <td>4995432</td>\n",
              "      <td>569.795071</td>\n",
              "    </tr>\n",
              "    <tr>\n",
              "      <th>3304</th>\n",
              "      <td>Zimbabwe</td>\n",
              "      <td>Africa</td>\n",
              "      <td>1972</td>\n",
              "      <td>55.635</td>\n",
              "      <td>5861135</td>\n",
              "      <td>799.362176</td>\n",
              "    </tr>\n",
              "    <tr>\n",
              "      <th>3305</th>\n",
              "      <td>Zimbabwe</td>\n",
              "      <td>Africa</td>\n",
              "      <td>1977</td>\n",
              "      <td>57.674</td>\n",
              "      <td>6642107</td>\n",
              "      <td>685.587682</td>\n",
              "    </tr>\n",
              "    <tr>\n",
              "      <th>3306</th>\n",
              "      <td>Zimbabwe</td>\n",
              "      <td>Africa</td>\n",
              "      <td>1982</td>\n",
              "      <td>60.363</td>\n",
              "      <td>7636524</td>\n",
              "      <td>788.855041</td>\n",
              "    </tr>\n",
              "    <tr>\n",
              "      <th>3307</th>\n",
              "      <td>Zimbabwe</td>\n",
              "      <td>Africa</td>\n",
              "      <td>1987</td>\n",
              "      <td>62.351</td>\n",
              "      <td>9216418</td>\n",
              "      <td>706.157306</td>\n",
              "    </tr>\n",
              "    <tr>\n",
              "      <th>3308</th>\n",
              "      <td>Zimbabwe</td>\n",
              "      <td>Africa</td>\n",
              "      <td>1992</td>\n",
              "      <td>60.377</td>\n",
              "      <td>10704340</td>\n",
              "      <td>693.420786</td>\n",
              "    </tr>\n",
              "    <tr>\n",
              "      <th>3309</th>\n",
              "      <td>Zimbabwe</td>\n",
              "      <td>Africa</td>\n",
              "      <td>1997</td>\n",
              "      <td>46.809</td>\n",
              "      <td>11404948</td>\n",
              "      <td>792.449960</td>\n",
              "    </tr>\n",
              "    <tr>\n",
              "      <th>3310</th>\n",
              "      <td>Zimbabwe</td>\n",
              "      <td>Africa</td>\n",
              "      <td>2002</td>\n",
              "      <td>39.989</td>\n",
              "      <td>11926563</td>\n",
              "      <td>672.038623</td>\n",
              "    </tr>\n",
              "    <tr>\n",
              "      <th>3311</th>\n",
              "      <td>Zimbabwe</td>\n",
              "      <td>Africa</td>\n",
              "      <td>2007</td>\n",
              "      <td>43.487</td>\n",
              "      <td>12311143</td>\n",
              "      <td>469.709298</td>\n",
              "    </tr>\n",
              "  </tbody>\n",
              "</table>\n",
              "</div>"
            ],
            "text/plain": [
              "          pais continente   ano  ExpectativaVida  populacao         PIB\n",
              "3302  Zimbabwe     Africa  1962           52.358    4277736  527.272182\n",
              "3303  Zimbabwe     Africa  1967           53.995    4995432  569.795071\n",
              "3304  Zimbabwe     Africa  1972           55.635    5861135  799.362176\n",
              "3305  Zimbabwe     Africa  1977           57.674    6642107  685.587682\n",
              "3306  Zimbabwe     Africa  1982           60.363    7636524  788.855041\n",
              "3307  Zimbabwe     Africa  1987           62.351    9216418  706.157306\n",
              "3308  Zimbabwe     Africa  1992           60.377   10704340  693.420786\n",
              "3309  Zimbabwe     Africa  1997           46.809   11404948  792.449960\n",
              "3310  Zimbabwe     Africa  2002           39.989   11926563  672.038623\n",
              "3311  Zimbabwe     Africa  2007           43.487   12311143  469.709298"
            ]
          },
          "metadata": {
            "tags": []
          },
          "execution_count": 10
        }
      ]
    },
    {
      "cell_type": "code",
      "metadata": {
        "colab": {
          "base_uri": "https://localhost:8080/",
          "height": 297
        },
        "id": "Cqgv4r-SooZM",
        "outputId": "20b8ab79-ddc9-420d-e6ce-f0fea6b67998"
      },
      "source": [
        "df.describe()"
      ],
      "execution_count": 11,
      "outputs": [
        {
          "output_type": "execute_result",
          "data": {
            "text/html": [
              "<div>\n",
              "<style scoped>\n",
              "    .dataframe tbody tr th:only-of-type {\n",
              "        vertical-align: middle;\n",
              "    }\n",
              "\n",
              "    .dataframe tbody tr th {\n",
              "        vertical-align: top;\n",
              "    }\n",
              "\n",
              "    .dataframe thead th {\n",
              "        text-align: right;\n",
              "    }\n",
              "</style>\n",
              "<table border=\"1\" class=\"dataframe\">\n",
              "  <thead>\n",
              "    <tr style=\"text-align: right;\">\n",
              "      <th></th>\n",
              "      <th>ano</th>\n",
              "      <th>ExpectativaVida</th>\n",
              "      <th>populacao</th>\n",
              "      <th>PIB</th>\n",
              "    </tr>\n",
              "  </thead>\n",
              "  <tbody>\n",
              "    <tr>\n",
              "      <th>count</th>\n",
              "      <td>3312.000000</td>\n",
              "      <td>3312.000000</td>\n",
              "      <td>3.312000e+03</td>\n",
              "      <td>3312.000000</td>\n",
              "    </tr>\n",
              "    <tr>\n",
              "      <th>mean</th>\n",
              "      <td>1980.301630</td>\n",
              "      <td>65.246871</td>\n",
              "      <td>3.161489e+07</td>\n",
              "      <td>11317.115805</td>\n",
              "    </tr>\n",
              "    <tr>\n",
              "      <th>std</th>\n",
              "      <td>16.927294</td>\n",
              "      <td>11.768412</td>\n",
              "      <td>1.041193e+08</td>\n",
              "      <td>11369.142739</td>\n",
              "    </tr>\n",
              "    <tr>\n",
              "      <th>min</th>\n",
              "      <td>1950.000000</td>\n",
              "      <td>23.599000</td>\n",
              "      <td>5.941200e+04</td>\n",
              "      <td>241.165877</td>\n",
              "    </tr>\n",
              "    <tr>\n",
              "      <th>25%</th>\n",
              "      <td>1967.000000</td>\n",
              "      <td>58.337500</td>\n",
              "      <td>2.678572e+06</td>\n",
              "      <td>2514.625266</td>\n",
              "    </tr>\n",
              "    <tr>\n",
              "      <th>50%</th>\n",
              "      <td>1982.000000</td>\n",
              "      <td>69.610000</td>\n",
              "      <td>7.557218e+06</td>\n",
              "      <td>7838.505123</td>\n",
              "    </tr>\n",
              "    <tr>\n",
              "      <th>75%</th>\n",
              "      <td>1996.000000</td>\n",
              "      <td>73.657750</td>\n",
              "      <td>1.958522e+07</td>\n",
              "      <td>17357.879170</td>\n",
              "    </tr>\n",
              "    <tr>\n",
              "      <th>max</th>\n",
              "      <td>2007.000000</td>\n",
              "      <td>82.670000</td>\n",
              "      <td>1.318683e+09</td>\n",
              "      <td>113523.132900</td>\n",
              "    </tr>\n",
              "  </tbody>\n",
              "</table>\n",
              "</div>"
            ],
            "text/plain": [
              "               ano  ExpectativaVida     populacao            PIB\n",
              "count  3312.000000      3312.000000  3.312000e+03    3312.000000\n",
              "mean   1980.301630        65.246871  3.161489e+07   11317.115805\n",
              "std      16.927294        11.768412  1.041193e+08   11369.142739\n",
              "min    1950.000000        23.599000  5.941200e+04     241.165877\n",
              "25%    1967.000000        58.337500  2.678572e+06    2514.625266\n",
              "50%    1982.000000        69.610000  7.557218e+06    7838.505123\n",
              "75%    1996.000000        73.657750  1.958522e+07   17357.879170\n",
              "max    2007.000000        82.670000  1.318683e+09  113523.132900"
            ]
          },
          "metadata": {
            "tags": []
          },
          "execution_count": 11
        }
      ]
    },
    {
      "cell_type": "code",
      "metadata": {
        "colab": {
          "base_uri": "https://localhost:8080/"
        },
        "id": "y_HAzkcuowlL",
        "outputId": "ee982e4e-b5f7-4945-fe14-865fd5397f99"
      },
      "source": [
        "df[\"continente\"].unique()"
      ],
      "execution_count": 12,
      "outputs": [
        {
          "output_type": "execute_result",
          "data": {
            "text/plain": [
              "array(['Asia', 'Europe', 'Africa', 'Americas', nan, 'FSU', 'Oceania'],\n",
              "      dtype=object)"
            ]
          },
          "metadata": {
            "tags": []
          },
          "execution_count": 12
        }
      ]
    },
    {
      "cell_type": "code",
      "metadata": {
        "colab": {
          "base_uri": "https://localhost:8080/",
          "height": 979
        },
        "id": "_4CJnDHEo4yH",
        "outputId": "7e95f93f-6104-4364-8c23-6c34388b0db2"
      },
      "source": [
        "americas = df.loc[df[\"continente\"] == \"Americas\"]\n",
        "americas.head(30)"
      ],
      "execution_count": 13,
      "outputs": [
        {
          "output_type": "execute_result",
          "data": {
            "text/html": [
              "<div>\n",
              "<style scoped>\n",
              "    .dataframe tbody tr th:only-of-type {\n",
              "        vertical-align: middle;\n",
              "    }\n",
              "\n",
              "    .dataframe tbody tr th {\n",
              "        vertical-align: top;\n",
              "    }\n",
              "\n",
              "    .dataframe thead th {\n",
              "        text-align: right;\n",
              "    }\n",
              "</style>\n",
              "<table border=\"1\" class=\"dataframe\">\n",
              "  <thead>\n",
              "    <tr style=\"text-align: right;\">\n",
              "      <th></th>\n",
              "      <th>pais</th>\n",
              "      <th>continente</th>\n",
              "      <th>ano</th>\n",
              "      <th>ExpectativaVida</th>\n",
              "      <th>populacao</th>\n",
              "      <th>PIB</th>\n",
              "    </tr>\n",
              "  </thead>\n",
              "  <tbody>\n",
              "    <tr>\n",
              "      <th>48</th>\n",
              "      <td>Argentina</td>\n",
              "      <td>Americas</td>\n",
              "      <td>1952</td>\n",
              "      <td>62.485</td>\n",
              "      <td>17876956</td>\n",
              "      <td>5911.315053</td>\n",
              "    </tr>\n",
              "    <tr>\n",
              "      <th>49</th>\n",
              "      <td>Argentina</td>\n",
              "      <td>Americas</td>\n",
              "      <td>1957</td>\n",
              "      <td>64.399</td>\n",
              "      <td>19610538</td>\n",
              "      <td>6856.856212</td>\n",
              "    </tr>\n",
              "    <tr>\n",
              "      <th>50</th>\n",
              "      <td>Argentina</td>\n",
              "      <td>Americas</td>\n",
              "      <td>1962</td>\n",
              "      <td>65.142</td>\n",
              "      <td>21283783</td>\n",
              "      <td>7133.166023</td>\n",
              "    </tr>\n",
              "    <tr>\n",
              "      <th>51</th>\n",
              "      <td>Argentina</td>\n",
              "      <td>Americas</td>\n",
              "      <td>1967</td>\n",
              "      <td>65.634</td>\n",
              "      <td>22934225</td>\n",
              "      <td>8052.953021</td>\n",
              "    </tr>\n",
              "    <tr>\n",
              "      <th>52</th>\n",
              "      <td>Argentina</td>\n",
              "      <td>Americas</td>\n",
              "      <td>1972</td>\n",
              "      <td>67.065</td>\n",
              "      <td>24779799</td>\n",
              "      <td>9443.038526</td>\n",
              "    </tr>\n",
              "    <tr>\n",
              "      <th>53</th>\n",
              "      <td>Argentina</td>\n",
              "      <td>Americas</td>\n",
              "      <td>1977</td>\n",
              "      <td>68.481</td>\n",
              "      <td>26983828</td>\n",
              "      <td>10079.026740</td>\n",
              "    </tr>\n",
              "    <tr>\n",
              "      <th>54</th>\n",
              "      <td>Argentina</td>\n",
              "      <td>Americas</td>\n",
              "      <td>1982</td>\n",
              "      <td>69.942</td>\n",
              "      <td>29341374</td>\n",
              "      <td>8997.897412</td>\n",
              "    </tr>\n",
              "    <tr>\n",
              "      <th>55</th>\n",
              "      <td>Argentina</td>\n",
              "      <td>Americas</td>\n",
              "      <td>1987</td>\n",
              "      <td>70.774</td>\n",
              "      <td>31620918</td>\n",
              "      <td>9139.671389</td>\n",
              "    </tr>\n",
              "    <tr>\n",
              "      <th>56</th>\n",
              "      <td>Argentina</td>\n",
              "      <td>Americas</td>\n",
              "      <td>1992</td>\n",
              "      <td>71.868</td>\n",
              "      <td>33958947</td>\n",
              "      <td>9308.418710</td>\n",
              "    </tr>\n",
              "    <tr>\n",
              "      <th>57</th>\n",
              "      <td>Argentina</td>\n",
              "      <td>Americas</td>\n",
              "      <td>1997</td>\n",
              "      <td>73.275</td>\n",
              "      <td>36203463</td>\n",
              "      <td>10967.281950</td>\n",
              "    </tr>\n",
              "    <tr>\n",
              "      <th>58</th>\n",
              "      <td>Argentina</td>\n",
              "      <td>Americas</td>\n",
              "      <td>2002</td>\n",
              "      <td>74.340</td>\n",
              "      <td>38331121</td>\n",
              "      <td>8797.640716</td>\n",
              "    </tr>\n",
              "    <tr>\n",
              "      <th>59</th>\n",
              "      <td>Argentina</td>\n",
              "      <td>Americas</td>\n",
              "      <td>2007</td>\n",
              "      <td>75.320</td>\n",
              "      <td>40301927</td>\n",
              "      <td>12779.379640</td>\n",
              "    </tr>\n",
              "    <tr>\n",
              "      <th>339</th>\n",
              "      <td>Bolivia</td>\n",
              "      <td>Americas</td>\n",
              "      <td>1952</td>\n",
              "      <td>40.414</td>\n",
              "      <td>2883315</td>\n",
              "      <td>2677.326347</td>\n",
              "    </tr>\n",
              "    <tr>\n",
              "      <th>340</th>\n",
              "      <td>Bolivia</td>\n",
              "      <td>Americas</td>\n",
              "      <td>1957</td>\n",
              "      <td>41.890</td>\n",
              "      <td>3211738</td>\n",
              "      <td>2127.686326</td>\n",
              "    </tr>\n",
              "    <tr>\n",
              "      <th>341</th>\n",
              "      <td>Bolivia</td>\n",
              "      <td>Americas</td>\n",
              "      <td>1962</td>\n",
              "      <td>43.428</td>\n",
              "      <td>3593918</td>\n",
              "      <td>2180.972546</td>\n",
              "    </tr>\n",
              "    <tr>\n",
              "      <th>342</th>\n",
              "      <td>Bolivia</td>\n",
              "      <td>Americas</td>\n",
              "      <td>1967</td>\n",
              "      <td>45.032</td>\n",
              "      <td>4040665</td>\n",
              "      <td>2586.886053</td>\n",
              "    </tr>\n",
              "    <tr>\n",
              "      <th>343</th>\n",
              "      <td>Bolivia</td>\n",
              "      <td>Americas</td>\n",
              "      <td>1972</td>\n",
              "      <td>46.714</td>\n",
              "      <td>4565872</td>\n",
              "      <td>2980.331339</td>\n",
              "    </tr>\n",
              "    <tr>\n",
              "      <th>344</th>\n",
              "      <td>Bolivia</td>\n",
              "      <td>Americas</td>\n",
              "      <td>1977</td>\n",
              "      <td>50.023</td>\n",
              "      <td>5079716</td>\n",
              "      <td>3548.097832</td>\n",
              "    </tr>\n",
              "    <tr>\n",
              "      <th>345</th>\n",
              "      <td>Bolivia</td>\n",
              "      <td>Americas</td>\n",
              "      <td>1982</td>\n",
              "      <td>53.859</td>\n",
              "      <td>5642224</td>\n",
              "      <td>3156.510452</td>\n",
              "    </tr>\n",
              "    <tr>\n",
              "      <th>346</th>\n",
              "      <td>Bolivia</td>\n",
              "      <td>Americas</td>\n",
              "      <td>1987</td>\n",
              "      <td>57.251</td>\n",
              "      <td>6156369</td>\n",
              "      <td>2753.691490</td>\n",
              "    </tr>\n",
              "    <tr>\n",
              "      <th>347</th>\n",
              "      <td>Bolivia</td>\n",
              "      <td>Americas</td>\n",
              "      <td>1992</td>\n",
              "      <td>59.957</td>\n",
              "      <td>6893451</td>\n",
              "      <td>2961.699694</td>\n",
              "    </tr>\n",
              "    <tr>\n",
              "      <th>348</th>\n",
              "      <td>Bolivia</td>\n",
              "      <td>Americas</td>\n",
              "      <td>1997</td>\n",
              "      <td>62.050</td>\n",
              "      <td>7693188</td>\n",
              "      <td>3326.143191</td>\n",
              "    </tr>\n",
              "    <tr>\n",
              "      <th>349</th>\n",
              "      <td>Bolivia</td>\n",
              "      <td>Americas</td>\n",
              "      <td>2002</td>\n",
              "      <td>63.883</td>\n",
              "      <td>8445134</td>\n",
              "      <td>3413.262690</td>\n",
              "    </tr>\n",
              "    <tr>\n",
              "      <th>350</th>\n",
              "      <td>Bolivia</td>\n",
              "      <td>Americas</td>\n",
              "      <td>2007</td>\n",
              "      <td>65.554</td>\n",
              "      <td>9119152</td>\n",
              "      <td>3822.137084</td>\n",
              "    </tr>\n",
              "    <tr>\n",
              "      <th>375</th>\n",
              "      <td>Brazil</td>\n",
              "      <td>Americas</td>\n",
              "      <td>1952</td>\n",
              "      <td>50.917</td>\n",
              "      <td>56602560</td>\n",
              "      <td>2108.944355</td>\n",
              "    </tr>\n",
              "    <tr>\n",
              "      <th>376</th>\n",
              "      <td>Brazil</td>\n",
              "      <td>Americas</td>\n",
              "      <td>1957</td>\n",
              "      <td>53.285</td>\n",
              "      <td>65551171</td>\n",
              "      <td>2487.365989</td>\n",
              "    </tr>\n",
              "    <tr>\n",
              "      <th>377</th>\n",
              "      <td>Brazil</td>\n",
              "      <td>Americas</td>\n",
              "      <td>1962</td>\n",
              "      <td>55.665</td>\n",
              "      <td>76039390</td>\n",
              "      <td>3336.585802</td>\n",
              "    </tr>\n",
              "    <tr>\n",
              "      <th>378</th>\n",
              "      <td>Brazil</td>\n",
              "      <td>Americas</td>\n",
              "      <td>1967</td>\n",
              "      <td>57.632</td>\n",
              "      <td>88049823</td>\n",
              "      <td>3429.864357</td>\n",
              "    </tr>\n",
              "    <tr>\n",
              "      <th>379</th>\n",
              "      <td>Brazil</td>\n",
              "      <td>Americas</td>\n",
              "      <td>1972</td>\n",
              "      <td>59.504</td>\n",
              "      <td>100840058</td>\n",
              "      <td>4985.711467</td>\n",
              "    </tr>\n",
              "    <tr>\n",
              "      <th>380</th>\n",
              "      <td>Brazil</td>\n",
              "      <td>Americas</td>\n",
              "      <td>1977</td>\n",
              "      <td>61.489</td>\n",
              "      <td>114313951</td>\n",
              "      <td>6660.118654</td>\n",
              "    </tr>\n",
              "  </tbody>\n",
              "</table>\n",
              "</div>"
            ],
            "text/plain": [
              "          pais continente   ano  ExpectativaVida  populacao           PIB\n",
              "48   Argentina   Americas  1952           62.485   17876956   5911.315053\n",
              "49   Argentina   Americas  1957           64.399   19610538   6856.856212\n",
              "50   Argentina   Americas  1962           65.142   21283783   7133.166023\n",
              "51   Argentina   Americas  1967           65.634   22934225   8052.953021\n",
              "52   Argentina   Americas  1972           67.065   24779799   9443.038526\n",
              "53   Argentina   Americas  1977           68.481   26983828  10079.026740\n",
              "54   Argentina   Americas  1982           69.942   29341374   8997.897412\n",
              "55   Argentina   Americas  1987           70.774   31620918   9139.671389\n",
              "56   Argentina   Americas  1992           71.868   33958947   9308.418710\n",
              "57   Argentina   Americas  1997           73.275   36203463  10967.281950\n",
              "58   Argentina   Americas  2002           74.340   38331121   8797.640716\n",
              "59   Argentina   Americas  2007           75.320   40301927  12779.379640\n",
              "339    Bolivia   Americas  1952           40.414    2883315   2677.326347\n",
              "340    Bolivia   Americas  1957           41.890    3211738   2127.686326\n",
              "341    Bolivia   Americas  1962           43.428    3593918   2180.972546\n",
              "342    Bolivia   Americas  1967           45.032    4040665   2586.886053\n",
              "343    Bolivia   Americas  1972           46.714    4565872   2980.331339\n",
              "344    Bolivia   Americas  1977           50.023    5079716   3548.097832\n",
              "345    Bolivia   Americas  1982           53.859    5642224   3156.510452\n",
              "346    Bolivia   Americas  1987           57.251    6156369   2753.691490\n",
              "347    Bolivia   Americas  1992           59.957    6893451   2961.699694\n",
              "348    Bolivia   Americas  1997           62.050    7693188   3326.143191\n",
              "349    Bolivia   Americas  2002           63.883    8445134   3413.262690\n",
              "350    Bolivia   Americas  2007           65.554    9119152   3822.137084\n",
              "375     Brazil   Americas  1952           50.917   56602560   2108.944355\n",
              "376     Brazil   Americas  1957           53.285   65551171   2487.365989\n",
              "377     Brazil   Americas  1962           55.665   76039390   3336.585802\n",
              "378     Brazil   Americas  1967           57.632   88049823   3429.864357\n",
              "379     Brazil   Americas  1972           59.504  100840058   4985.711467\n",
              "380     Brazil   Americas  1977           61.489  114313951   6660.118654"
            ]
          },
          "metadata": {
            "tags": []
          },
          "execution_count": 13
        }
      ]
    },
    {
      "cell_type": "code",
      "metadata": {
        "colab": {
          "base_uri": "https://localhost:8080/"
        },
        "id": "1cEG4mrNpE4P",
        "outputId": "1df6eb11-67aa-4529-b209-23404996ef01"
      },
      "source": [
        "americas[\"continente\"].unique()"
      ],
      "execution_count": 14,
      "outputs": [
        {
          "output_type": "execute_result",
          "data": {
            "text/plain": [
              "array(['Americas'], dtype=object)"
            ]
          },
          "metadata": {
            "tags": []
          },
          "execution_count": 14
        }
      ]
    },
    {
      "cell_type": "code",
      "metadata": {
        "colab": {
          "base_uri": "https://localhost:8080/"
        },
        "id": "ADgnIj8AuYpq",
        "outputId": "0cf283cc-d67e-44df-f634-3558c2238cce"
      },
      "source": [
        "americas[\"pais\"].unique()"
      ],
      "execution_count": 15,
      "outputs": [
        {
          "output_type": "execute_result",
          "data": {
            "text/plain": [
              "array(['Argentina', 'Bolivia', 'Brazil', 'Chile', 'Colombia',\n",
              "       'Costa Rica', 'Cuba', 'Dominican Republic', 'Ecuador',\n",
              "       'El Salvador', 'Guatemala', 'Guyana', 'Honduras', 'Jamaica',\n",
              "       'Mexico', 'Nicaragua', 'Panama', 'Paraguay', 'Peru', 'Puerto Rico',\n",
              "       'Suriname', 'Trinidad and Tobago', 'United States', 'Uruguay',\n",
              "       'Venezuela'], dtype=object)"
            ]
          },
          "metadata": {
            "tags": []
          },
          "execution_count": 15
        }
      ]
    },
    {
      "cell_type": "code",
      "metadata": {
        "colab": {
          "base_uri": "https://localhost:8080/"
        },
        "id": "4AXuX2VUpMF3",
        "outputId": "a47eda8c-fb95-4f35-84d5-637f2787429a"
      },
      "source": [
        "df.groupby(\"continente\")[\"pais\"].nunique()"
      ],
      "execution_count": 16,
      "outputs": [
        {
          "output_type": "execute_result",
          "data": {
            "text/plain": [
              "continente\n",
              "Africa      51\n",
              "Americas    25\n",
              "Asia        41\n",
              "Europe      35\n",
              "FSU          6\n",
              "Oceania      3\n",
              "Name: pais, dtype: int64"
            ]
          },
          "metadata": {
            "tags": []
          },
          "execution_count": 16
        }
      ]
    },
    {
      "cell_type": "code",
      "metadata": {
        "colab": {
          "base_uri": "https://localhost:8080/"
        },
        "id": "6XraTWU6pWRe",
        "outputId": "7bacd3d9-f6f3-4cbd-e0df-1898aaee161d"
      },
      "source": [
        "df.dtypes "
      ],
      "execution_count": 17,
      "outputs": [
        {
          "output_type": "execute_result",
          "data": {
            "text/plain": [
              "pais                object\n",
              "continente          object\n",
              "ano                  int64\n",
              "ExpectativaVida    float64\n",
              "populacao            int64\n",
              "PIB                float64\n",
              "dtype: object"
            ]
          },
          "metadata": {
            "tags": []
          },
          "execution_count": 17
        }
      ]
    },
    {
      "cell_type": "code",
      "metadata": {
        "colab": {
          "base_uri": "https://localhost:8080/"
        },
        "id": "v6p5tobxu8YR",
        "outputId": "2bb2e406-fc81-492c-eacf-36441c180801"
      },
      "source": [
        "df.groupby(\"ano\")[\"ExpectativaVida\"].mean()"
      ],
      "execution_count": 18,
      "outputs": [
        {
          "output_type": "execute_result",
          "data": {
            "text/plain": [
              "ano\n",
              "1950    62.002568\n",
              "1951    65.904167\n",
              "1952    49.206867\n",
              "1953    66.674563\n",
              "1954    67.459817\n",
              "1955    67.806757\n",
              "1956    67.950637\n",
              "1957    51.614590\n",
              "1958    68.815936\n",
              "1959    68.226579\n",
              "1960    68.470837\n",
              "1961    68.862480\n",
              "1962    54.035234\n",
              "1963    69.595735\n",
              "1964    70.063105\n",
              "1965    70.259881\n",
              "1966    70.447526\n",
              "1967    56.263629\n",
              "1968    70.689081\n",
              "1969    70.653896\n",
              "1970    70.961141\n",
              "1971    71.103976\n",
              "1972    58.474481\n",
              "1973    71.500338\n",
              "1974    71.778504\n",
              "1975    71.939218\n",
              "1976    72.158050\n",
              "1977    60.429090\n",
              "1978    72.717567\n",
              "1979    73.018717\n",
              "1980    73.064524\n",
              "1981    73.337399\n",
              "1982    62.365871\n",
              "1983    73.787778\n",
              "1984    74.100741\n",
              "1985    74.112222\n",
              "1986    74.452222\n",
              "1987    63.984860\n",
              "1988    74.760000\n",
              "1989    74.924444\n",
              "1990    74.283437\n",
              "1991    74.374848\n",
              "1992    65.008443\n",
              "1993    74.324545\n",
              "1994    74.456667\n",
              "1995    74.552727\n",
              "1996    75.029394\n",
              "1997    65.873799\n",
              "1998    75.569697\n",
              "1999    75.703636\n",
              "2000    76.026364\n",
              "2001    76.257879\n",
              "2002    66.835695\n",
              "2003    76.586667\n",
              "2004    76.921563\n",
              "2005    76.718667\n",
              "2006    77.887778\n",
              "2007    67.868557\n",
              "Name: ExpectativaVida, dtype: float64"
            ]
          },
          "metadata": {
            "tags": []
          },
          "execution_count": 18
        }
      ]
    },
    {
      "cell_type": "code",
      "metadata": {
        "colab": {
          "base_uri": "https://localhost:8080/"
        },
        "id": "MC6s6hAApe2G",
        "outputId": "ee1e5e21-b109-44e5-9708-e2b158c79b6d"
      },
      "source": [
        "df[\"PIB\"].mean()"
      ],
      "execution_count": 19,
      "outputs": [
        {
          "output_type": "execute_result",
          "data": {
            "text/plain": [
              "11317.115804696637"
            ]
          },
          "metadata": {
            "tags": []
          },
          "execution_count": 19
        }
      ]
    },
    {
      "cell_type": "code",
      "metadata": {
        "colab": {
          "base_uri": "https://localhost:8080/"
        },
        "id": "jjIsWe7hplHR",
        "outputId": "e1d13d28-f181-4657-9eef-7eab4cba45eb"
      },
      "source": [
        "df[\"PIB\"].sum()"
      ],
      "execution_count": 20,
      "outputs": [
        {
          "output_type": "execute_result",
          "data": {
            "text/plain": [
              "37482287.5451553"
            ]
          },
          "metadata": {
            "tags": []
          },
          "execution_count": 20
        }
      ]
    },
    {
      "cell_type": "code",
      "metadata": {
        "colab": {
          "base_uri": "https://localhost:8080/"
        },
        "id": "O-vKIb4OoOyB",
        "outputId": "df891333-cf4d-4566-d49a-4298d7a98b2a"
      },
      "source": [
        "df[\"PIB\"].min()"
      ],
      "execution_count": 21,
      "outputs": [
        {
          "output_type": "execute_result",
          "data": {
            "text/plain": [
              "241.16587650000002"
            ]
          },
          "metadata": {
            "tags": []
          },
          "execution_count": 21
        }
      ]
    },
    {
      "cell_type": "code",
      "metadata": {
        "colab": {
          "base_uri": "https://localhost:8080/"
        },
        "id": "QyxTK1EiIXEl",
        "outputId": "549f5562-ef0f-4df0-d62f-43c92159d8ca"
      },
      "source": [
        "df[\"PIB\"].max()"
      ],
      "execution_count": 22,
      "outputs": [
        {
          "output_type": "execute_result",
          "data": {
            "text/plain": [
              "113523.1329"
            ]
          },
          "metadata": {
            "tags": []
          },
          "execution_count": 22
        }
      ]
    },
    {
      "cell_type": "markdown",
      "metadata": {
        "id": "XOJErXRIIqvs"
      },
      "source": [
        "# Nova seção"
      ]
    },
    {
      "cell_type": "markdown",
      "metadata": {
        "id": "YN96gmmgIrIp"
      },
      "source": [
        "# Nova seção"
      ]
    }
  ]
}